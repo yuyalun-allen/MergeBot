{
 "cells": [
  {
   "cell_type": "code",
   "execution_count": 2,
   "metadata": {},
   "outputs": [],
   "source": [
    "import pandas as pd"
   ]
  },
  {
   "cell_type": "code",
   "execution_count": 75,
   "metadata": {},
   "outputs": [],
   "source": [
    "baseline = pd.read_json(\"../results/evaluation_results_baseline_adjusted.json\")\n",
    "zero_shot_raw = pd.read_json(\"../results/evaluation_results_raw.json\").iloc[1:].reset_index(drop=True)\n",
    "zero_shot_ft = pd.read_json(\"../results/evaluation_results_ft.json\").iloc[1:].reset_index(drop=True)\n",
    "few_shot_raw = pd.read_json(\"../results/evaluation_results_raw_3shot.json\").iloc[1:].reset_index(drop=True)\n",
    "few_shot_ft = pd.read_json(\"../results/evaluation_results_ft_fs_2.json\").iloc[1:].reset_index(drop=True)\n",
    "few_shot_ft_without_rag = pd.read_json(\"../results/evaluation_results_ft_fixed_examples.json\").iloc[1:].reset_index(drop=True)\n"
   ]
  },
  {
   "cell_type": "code",
   "execution_count": 76,
   "metadata": {},
   "outputs": [],
   "source": [
    "def get_mean_metrices(df):\n",
    "    return df[['codebleu', 'bleu', 'rouge']].mean(axis=1)\n",
    "    # return df['codebleu']\n",
    "\n",
    "evalutation_results = {\n",
    "    'baseline': get_mean_metrices(baseline),\n",
    "    'zero_shot_raw': get_mean_metrices(zero_shot_raw),\n",
    "    'zero_shot_ft': get_mean_metrices(zero_shot_ft),\n",
    "    'few_shot_raw': get_mean_metrices(few_shot_raw),\n",
    "    'few_shot_ft': get_mean_metrices(few_shot_ft),\n",
    "    'few_shot_ft_without_rag': get_mean_metrices(few_shot_ft_without_rag)\n",
    "}\n",
    "\n",
    "evalutation_results = pd.DataFrame(evalutation_results)"
   ]
  },
  {
   "cell_type": "code",
   "execution_count": 77,
   "metadata": {},
   "outputs": [
    {
     "data": {
      "text/html": [
       "<div>\n",
       "<style scoped>\n",
       "    .dataframe tbody tr th:only-of-type {\n",
       "        vertical-align: middle;\n",
       "    }\n",
       "\n",
       "    .dataframe tbody tr th {\n",
       "        vertical-align: top;\n",
       "    }\n",
       "\n",
       "    .dataframe thead th {\n",
       "        text-align: right;\n",
       "    }\n",
       "</style>\n",
       "<table border=\"1\" class=\"dataframe\">\n",
       "  <thead>\n",
       "    <tr style=\"text-align: right;\">\n",
       "      <th></th>\n",
       "      <th>baseline</th>\n",
       "      <th>zero_shot_raw</th>\n",
       "      <th>zero_shot_ft</th>\n",
       "      <th>few_shot_raw</th>\n",
       "      <th>few_shot_ft</th>\n",
       "      <th>few_shot_ft_without_rag</th>\n",
       "    </tr>\n",
       "  </thead>\n",
       "  <tbody>\n",
       "    <tr>\n",
       "      <th>0</th>\n",
       "      <td>0.905596</td>\n",
       "      <td>0.480666</td>\n",
       "      <td>0.668559</td>\n",
       "      <td>0.683332</td>\n",
       "      <td>0.820090</td>\n",
       "      <td>0.073073</td>\n",
       "    </tr>\n",
       "    <tr>\n",
       "      <th>1</th>\n",
       "      <td>0.682779</td>\n",
       "      <td>0.649946</td>\n",
       "      <td>0.905168</td>\n",
       "      <td>0.496026</td>\n",
       "      <td>1.000000</td>\n",
       "      <td>1.000000</td>\n",
       "    </tr>\n",
       "    <tr>\n",
       "      <th>2</th>\n",
       "      <td>0.869093</td>\n",
       "      <td>0.551976</td>\n",
       "      <td>0.691203</td>\n",
       "      <td>0.632348</td>\n",
       "      <td>0.083333</td>\n",
       "      <td>0.083333</td>\n",
       "    </tr>\n",
       "    <tr>\n",
       "      <th>3</th>\n",
       "      <td>0.939569</td>\n",
       "      <td>0.764638</td>\n",
       "      <td>0.414934</td>\n",
       "      <td>0.688652</td>\n",
       "      <td>0.764230</td>\n",
       "      <td>0.083030</td>\n",
       "    </tr>\n",
       "    <tr>\n",
       "      <th>4</th>\n",
       "      <td>0.810837</td>\n",
       "      <td>0.782422</td>\n",
       "      <td>0.777875</td>\n",
       "      <td>0.678346</td>\n",
       "      <td>0.083333</td>\n",
       "      <td>0.125073</td>\n",
       "    </tr>\n",
       "    <tr>\n",
       "      <th>...</th>\n",
       "      <td>...</td>\n",
       "      <td>...</td>\n",
       "      <td>...</td>\n",
       "      <td>...</td>\n",
       "      <td>...</td>\n",
       "      <td>...</td>\n",
       "    </tr>\n",
       "    <tr>\n",
       "      <th>86</th>\n",
       "      <td>0.787438</td>\n",
       "      <td>1.000000</td>\n",
       "      <td>0.884860</td>\n",
       "      <td>0.772692</td>\n",
       "      <td>0.552505</td>\n",
       "      <td>0.437565</td>\n",
       "    </tr>\n",
       "    <tr>\n",
       "      <th>87</th>\n",
       "      <td>0.905737</td>\n",
       "      <td>0.793222</td>\n",
       "      <td>0.947047</td>\n",
       "      <td>0.657869</td>\n",
       "      <td>0.083333</td>\n",
       "      <td>0.083333</td>\n",
       "    </tr>\n",
       "    <tr>\n",
       "      <th>88</th>\n",
       "      <td>0.865882</td>\n",
       "      <td>0.703162</td>\n",
       "      <td>0.827640</td>\n",
       "      <td>0.625719</td>\n",
       "      <td>0.083333</td>\n",
       "      <td>0.093862</td>\n",
       "    </tr>\n",
       "    <tr>\n",
       "      <th>89</th>\n",
       "      <td>0.900683</td>\n",
       "      <td>0.850846</td>\n",
       "      <td>0.731123</td>\n",
       "      <td>0.740220</td>\n",
       "      <td>0.648797</td>\n",
       "      <td>0.120952</td>\n",
       "    </tr>\n",
       "    <tr>\n",
       "      <th>90</th>\n",
       "      <td>0.879271</td>\n",
       "      <td>NaN</td>\n",
       "      <td>0.937506</td>\n",
       "      <td>0.850846</td>\n",
       "      <td>0.790666</td>\n",
       "      <td>0.412129</td>\n",
       "    </tr>\n",
       "  </tbody>\n",
       "</table>\n",
       "<p>91 rows × 6 columns</p>\n",
       "</div>"
      ],
      "text/plain": [
       "    baseline  zero_shot_raw  zero_shot_ft  few_shot_raw  few_shot_ft  \\\n",
       "0   0.905596       0.480666      0.668559      0.683332     0.820090   \n",
       "1   0.682779       0.649946      0.905168      0.496026     1.000000   \n",
       "2   0.869093       0.551976      0.691203      0.632348     0.083333   \n",
       "3   0.939569       0.764638      0.414934      0.688652     0.764230   \n",
       "4   0.810837       0.782422      0.777875      0.678346     0.083333   \n",
       "..       ...            ...           ...           ...          ...   \n",
       "86  0.787438       1.000000      0.884860      0.772692     0.552505   \n",
       "87  0.905737       0.793222      0.947047      0.657869     0.083333   \n",
       "88  0.865882       0.703162      0.827640      0.625719     0.083333   \n",
       "89  0.900683       0.850846      0.731123      0.740220     0.648797   \n",
       "90  0.879271            NaN      0.937506      0.850846     0.790666   \n",
       "\n",
       "    few_shot_ft_without_rag  \n",
       "0                  0.073073  \n",
       "1                  1.000000  \n",
       "2                  0.083333  \n",
       "3                  0.083030  \n",
       "4                  0.125073  \n",
       "..                      ...  \n",
       "86                 0.437565  \n",
       "87                 0.083333  \n",
       "88                 0.093862  \n",
       "89                 0.120952  \n",
       "90                 0.412129  \n",
       "\n",
       "[91 rows x 6 columns]"
      ]
     },
     "execution_count": 77,
     "metadata": {},
     "output_type": "execute_result"
    }
   ],
   "source": [
    "evalutation_results"
   ]
  },
  {
   "cell_type": "code",
   "execution_count": 78,
   "metadata": {},
   "outputs": [],
   "source": [
    "bins = [float('-inf'), 0.6, 0.85, float('inf')]\n",
    "catagories = {}\n",
    "for col in evalutation_results.columns:\n",
    "    catagories[col] = pd.cut(evalutation_results[col], bins, labels=[\"< 0.6\", \"0.6 - 0.85\", \"> 0.85\"]).value_counts().sort_index()"
   ]
  },
  {
   "cell_type": "markdown",
   "metadata": {},
   "source": [
    "# 指标\n",
    "\n",
    "各种指标（CodeBLEU, BLEU, rouge）反应的效果大体上是一致的，凭感觉进行分段\n",
    "1. < 0.6 几乎不可用，与实际解决方案相去甚远；\n",
    "2. 0.6 - 0.85 比较接近，开发者可以参考其输出解决冲突；\n",
    "3. \\> 0.85 与参考输出非常接近，排除个别符号的差异可以直接使用。 "
   ]
  },
  {
   "cell_type": "code",
   "execution_count": 79,
   "metadata": {},
   "outputs": [],
   "source": [
    "catagories = pd.DataFrame(catagories)"
   ]
  },
  {
   "cell_type": "code",
   "execution_count": 80,
   "metadata": {},
   "outputs": [
    {
     "data": {
      "text/plain": [
       "<Axes: >"
      ]
     },
     "execution_count": 80,
     "metadata": {},
     "output_type": "execute_result"
    },
    {
     "data": {
      "image/png": "[encoded data removed]",
      "text/plain": [
       "<Figure size 640x480 with 1 Axes>"
      ]
     },
     "metadata": {},
     "output_type": "display_data"
    }
   ],
   "source": [
    "catagories.plot(kind=\"bar\")"
   ]
  },
  {
   "cell_type": "markdown",
   "metadata": {},
   "source": [
    "# 一些结论\n",
    "\n",
    "就目前的Baseline以及Llama3的输出结果来看，有一些初步结论：\n",
    "1. Llama3 无论是通过微调或 *few shot prompting* 后效果均不如 *Baseline*。\n",
    "2. 微调后的 Llama3 > 0.85 的比重优于没有微调的，但是 < 0.6 的比重却大幅增加。\n",
    "3. 对比固定示例的 *few shot prompting*，通过 *RAG* 寻找相近的示例解决方案的效果更好，但却不如 *zero shot prompting*。（疑问？是否prompt中举例的方式不对）\n",
    "\n",
    "\n",
    "也存在Baseline不如llama的例子\n",
    "> baseline\n",
    "```json\n",
    "    {\n",
    "        \"ref\": \" */\\npackage org.sqlite;\\n\\nimport java.util.Iterator;\\nimport java.util.LinkedList;\",\n",
    "        \"pred\": \" */ */\\npackage org.sqlite;\\n\\nimport java.util.Collections;\\nimport java.util.LinkedList;\\n\",\n",
    "        \"codebleu\": 0.7281110610329494,\n",
    "        \"bleu\": 0.4111336169005197,\n",
    "        \"rouge\": 0.9090909090909091,\n",
    "        \"levenshtein\": 13\n",
    "    },\n",
    "```\n",
    "\n",
    "> llama finetuning\n",
    "```json\n",
    "    {\n",
    "        \"ref\": \" */\\npackage org.sqlite;\\n\\nimport java.util.Iterator;\\nimport java.util.LinkedList;\",\n",
    "        \"pred\": \" */\\npackage org.sqlite;\\n\\nimport java.util.Iterator;\\nimport java.util.LinkedList;\",\n",
    "        \"codebleu\": 1.0,\n",
    "        \"bleu\": 1.0,\n",
    "        \"rouge\": 1.0,\n",
    "        \"levenshtein\": 0\n",
    "    },\n",
    "```\n",
    "\n",
    "目前能想到的提升方案是\n",
    "1. 用干净的数据增加微调代数。\n",
    "\n",
    "    Baseline 在数据集上迭代了约 16 epoch（约2小时），Llama 的微调仅进行了 3 epoch（约24小时）。\n",
    "\n",
    "2. 优化提示词。"
   ]
  },
  {
   "cell_type": "code",
   "execution_count": null,
   "metadata": {},
   "outputs": [],
   "source": []
  },
  {
   "cell_type": "code",
   "execution_count": null,
   "metadata": {},
   "outputs": [],
   "source": []
  }
 ],
 "metadata": {
  "kernelspec": {
   "display_name": ".venv",
   "language": "python",
   "name": "python3"
  },
  "language_info": {
   "codemirror_mode": {
    "name": "ipython",
    "version": 3
   },
   "file_extension": ".py",
   "mimetype": "text/x-python",
   "name": "python",
   "nbconvert_exporter": "python",
   "pygments_lexer": "ipython3",
   "version": "3.10.14"
  }
 },
 "nbformat": 4,
 "nbformat_minor": 2
}
